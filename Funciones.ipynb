{
  "nbformat": 4,
  "nbformat_minor": 0,
  "metadata": {
    "colab": {
      "provenance": [],
      "authorship_tag": "ABX9TyMHvlBTxyHolVmmkb9ovRwU",
      "include_colab_link": true
    },
    "kernelspec": {
      "name": "python3",
      "display_name": "Python 3"
    },
    "language_info": {
      "name": "python"
    }
  },
  "cells": [
    {
      "cell_type": "markdown",
      "metadata": {
        "id": "view-in-github",
        "colab_type": "text"
      },
      "source": [
        "<a href=\"https://colab.research.google.com/github/JDaniec/Funciones/blob/main/Funciones.ipynb\" target=\"_parent\"><img src=\"https://colab.research.google.com/assets/colab-badge.svg\" alt=\"Open In Colab\"/></a>"
      ]
    },
    {
      "cell_type": "code",
      "execution_count": null,
      "metadata": {
        "id": "R10q8Q_TTlTX"
      },
      "outputs": [],
      "source": [
        "print(\"----------------------------------------\")\n",
        "print(\"------BUSCAR UN NUMERO EN CONJUNTO------\")\n",
        "print(\"----------------------------------------\")\n",
        "\n",
        "#entrada\n",
        "b = int(input(\"Numero a busacar: \")) #se recibe el dato\n",
        "\n",
        "#Processing\n",
        "\n",
        "a = [1, 2, 3, 4, 5] #Se almacena una lista de datos\n",
        "r = False #se inicia la variable r con un valor falso\n",
        "\n",
        "\n",
        "for i in a:\n",
        "  if i==b:\n",
        "    print(\"Lo encontre\")\n",
        "    r = True\n",
        "\n",
        "if r == False:\n",
        "  print(\"No lo encontre\")\n",
        "\n",
        "print(\"nEso era. . .\")"
      ]
    },
    {
      "cell_type": "code",
      "source": [
        "print(\"----------------------------------------\")\n",
        "print(\"------BUSCAR UN NUMERO EN CONJUNTO------\")\n",
        "print(\"----------------------------------------\")\n",
        "\n",
        "#Definición de la función \n",
        "def buscarDatoEnLaLista(datoABuscar, lista):\n",
        "  r = False\n",
        "  for i in lista:\n",
        "    if i == datoABuscar:\n",
        "      r = True\n",
        "  return r\n",
        "\n",
        "#entrada\n",
        "dato = int(input(\"Número a buscar: \"))\n",
        "\n",
        "lista = [1,2,3,4,5]\n",
        "if buscarDatoEnLaLista(dato, lista):\n",
        "  print(\"Lo encontré.\")\n",
        "else:\n",
        "  print(\"No lo encontré.\")\n",
        "\n",
        "print(\"\\nEso era...\")"
      ],
      "metadata": {
        "colab": {
          "base_uri": "https://localhost:8080/"
        },
        "id": "TfIi_q3qWDyL",
        "outputId": "a6a4b76d-5a90-4898-db50-75866d1630f0"
      },
      "execution_count": null,
      "outputs": [
        {
          "metadata": {
            "tags": null
          },
          "name": "stdout",
          "output_type": "stream",
          "text": [
            "----------------------------------------\n",
            "------BUSCAR UN NUMERO EN CONJUNTO------\n",
            "----------------------------------------\n"
          ]
        }
      ]
    },
    {
      "cell_type": "code",
      "source": [],
      "metadata": {
        "id": "TfjwlTKbbmFo"
      },
      "execution_count": null,
      "outputs": []
    }
  ]
}